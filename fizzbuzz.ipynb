{
 "cells": [
  {
   "cell_type": "code",
   "execution_count": null,
   "id": "f0433f60",
   "metadata": {},
   "outputs": [],
   "source": [
    "def fizzbuzz():\n",
    "    for i in range(1, 24+1):\n",
    "        if i % 15 == 0:\n",
    "            print(\"fizzbuzz\")\n",
    "        elif i % 3 == 0:\n",
    "            print(\"fizz\")\n",
    "        elif i % 5 == 0:\n",
    "            print(\"buzz\")\n",
    "        else:\n",
    "            print(i)\n",
    "\n",
    "def fizzbuzz_2():\n",
    "    for i in range(1, 24+1):\n",
    "        if i % 3 == 0 or i % 5 == 0:\n",
    "            print (\"fizz\" * (i % 3 == 0) + \"buzz\" * (i % 5 == 0))\n",
    "        else:\n",
    "            print(i)\n",
    "\n",
    "if __name__ == '__main__':\n",
    "    fizzbuzz()\n",
    "    print('-' * 30)\n",
    "    fizzbuzz_2()"
   ]
  }
 ],
 "metadata": {
  "kernelspec": {
   "display_name": "Python 3",
   "language": "python",
   "name": "python3"
  },
  "language_info": {
   "codemirror_mode": {
    "name": "ipython",
    "version": 3
   },
   "file_extension": ".py",
   "mimetype": "text/x-python",
   "name": "python",
   "nbconvert_exporter": "python",
   "pygments_lexer": "ipython3",
   "version": "3.8.8"
  }
 },
 "nbformat": 4,
 "nbformat_minor": 5
}
