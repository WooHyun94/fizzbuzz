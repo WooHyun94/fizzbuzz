{
 "cells": [
  {
   "cell_type": "markdown",
   "id": "608b3668",
   "metadata": {},
   "source": [
    "## fizzbuzz"
   ]
  },
  {
   "cell_type": "code",

   "outputs": [
    {
     "name": "stdout",
     "output_type": "stream",
     "text": [
     ]
    }
   ],
   "source": [
   ]
  },
  {
   "cell_type": "code",
   "metadata": {},
   "outputs": [
    {
     "name": "stdout",
     "output_type": "stream",
     "text": [
      "fizzbuzz\n",
      "fizzbuzz\n",
      "fizzbuzz\n",
      "fizzbuzz\n",
      "fizzbuzz\n",
      "fizzbuzz\n",
      "fizzbuzz\n",
      "fizzbuzz\n",
      "fizzbuzz\n",
      "fizzbuzz\n",
      "fizzbuzz\n",
      "fizzbuzz\n",
      "fizzbuzz\n",
      "fizzbuzz\n",
      "fizzbuzz\n",
      "fizzbuzz\n",
      "fizzbuzz\n",
      "fizzbuzz\n",
      "fizzbuzz\n",
      "fizzbuzz\n",
      "fizzbuzz\n",
      "fizzbuzz\n",
      "fizzbuzz\n",
      "fizzbuzz\n"
     ]
    }
   ],
   "source": [
    "def fizzbuzz():\n",
    "    for i in range(1,24+1):\n",
    "        print(\"fizzbuzz\")\n",
    "fizzbuzz()"
   ]
  }
 ],
 "metadata": {
  "hide_input": false,
  "kernelspec": {
   "display_name": "Python 3 (ipykernel)",
   "language": "python",
   "name": "python3"
  },
  "language_info": {
   "codemirror_mode": {
    "name": "ipython",
    "version": 3
   },
   "file_extension": ".py",
   "mimetype": "text/x-python",
   "name": "python",
   "nbconvert_exporter": "python",
   "pygments_lexer": "ipython3",
  }
 },
 "nbformat": 4,
 "nbformat_minor": 5
}
